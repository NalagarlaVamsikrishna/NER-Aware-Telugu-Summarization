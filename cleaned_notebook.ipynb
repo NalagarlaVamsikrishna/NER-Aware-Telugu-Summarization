{
 "cells": [
  {
   "cell_type": "markdown",
   "metadata": {
    "id": "A9fWhjTwW6qD"
   },
   "source": [
    "[![Open In Colab](https://colab.research.google.com/assets/colab-badge.svg)](https://colab.research.google.com/drive/1wY9N4XrpOf65EI01LDFdSEEkOFwJ18JT?usp=sharing)\n"
   ]
  },
  {
   "cell_type": "code",
   "execution_count": 1,
   "metadata": {
    "colab": {
     "base_uri": "https://localhost:8080/",
     "height": 211
    },
    "executionInfo": {
     "elapsed": 972,
     "status": "error",
     "timestamp": 1745089170563,
     "user": {
      "displayName": "Vamsikrishna N",
      "userId": "09550140884141230614"
     },
     "user_tz": -330
    },
    "id": "Fz_nnqpiar1H",
    "outputId": "50188bc9-d52d-4cae-f9b4-3d9211647425"
   },
   "outputs": [
    {
     "ename": "FileNotFoundError",
     "evalue": "[Errno 2] No such file or directory: '/content/Untitled2.ipynb'",
     "output_type": "error",
     "traceback": [
      "\u001b[0;31m---------------------------------------------------------------------------\u001b[0m",
      "\u001b[0;31mFileNotFoundError\u001b[0m                         Traceback (most recent call last)",
      "\u001b[0;32m<ipython-input-1-45a850f8f0a7>\u001b[0m in \u001b[0;36m<cell line: 0>\u001b[0;34m()\u001b[0m\n\u001b[1;32m      3\u001b[0m \u001b[0;31m# Load the current notebook\u001b[0m\u001b[0;34m\u001b[0m\u001b[0;34m\u001b[0m\u001b[0m\n\u001b[1;32m      4\u001b[0m \u001b[0mnotebook_path\u001b[0m \u001b[0;34m=\u001b[0m \u001b[0;34m\"/content/Untitled2.ipynb\"\u001b[0m  \u001b[0;31m# Change this if needed\u001b[0m\u001b[0;34m\u001b[0m\u001b[0;34m\u001b[0m\u001b[0m\n\u001b[0;32m----> 5\u001b[0;31m \u001b[0;32mwith\u001b[0m \u001b[0mopen\u001b[0m\u001b[0;34m(\u001b[0m\u001b[0mnotebook_path\u001b[0m\u001b[0;34m,\u001b[0m \u001b[0;34m\"r\"\u001b[0m\u001b[0;34m,\u001b[0m \u001b[0mencoding\u001b[0m\u001b[0;34m=\u001b[0m\u001b[0;34m\"utf-8\"\u001b[0m\u001b[0;34m)\u001b[0m \u001b[0;32mas\u001b[0m \u001b[0mf\u001b[0m\u001b[0;34m:\u001b[0m\u001b[0;34m\u001b[0m\u001b[0;34m\u001b[0m\u001b[0m\n\u001b[0m\u001b[1;32m      6\u001b[0m     \u001b[0mnb\u001b[0m \u001b[0;34m=\u001b[0m \u001b[0mnbformat\u001b[0m\u001b[0;34m.\u001b[0m\u001b[0mread\u001b[0m\u001b[0;34m(\u001b[0m\u001b[0mf\u001b[0m\u001b[0;34m,\u001b[0m \u001b[0mas_version\u001b[0m\u001b[0;34m=\u001b[0m\u001b[0;36m4\u001b[0m\u001b[0;34m)\u001b[0m\u001b[0;34m\u001b[0m\u001b[0;34m\u001b[0m\u001b[0m\n\u001b[1;32m      7\u001b[0m \u001b[0;34m\u001b[0m\u001b[0m\n",
      "\u001b[0;31mFileNotFoundError\u001b[0m: [Errno 2] No such file or directory: '/content/Untitled2.ipynb'"
     ]
    }
   ],
   "source": [
    "import nbformat\n",
    "\n",
    "# Load the current notebook\n",
    "notebook_path = \"/content/Untitled2.ipynb\"  # Change this if needed\n",
    "with open(notebook_path, \"r\", encoding=\"utf-8\") as f:\n",
    "    nb = nbformat.read(f, as_version=4)\n",
    "\n",
    "# Clean metadata.widgets\n",
    "if \"widgets\" in nb[\"metadata\"]:\n",
    "    if \"state\" not in nb[\"metadata\"][\"widgets\"]:\n",
    "        print(\"Removing invalid 'metadata.widgets' without 'state'\")\n",
    "        del nb[\"metadata\"][\"widgets\"]\n",
    "\n",
    "# Save the cleaned notebook\n",
    "with open(\"/content/cleaned_notebook.ipynb\", \"w\", encoding=\"utf-8\") as f:\n",
    "    nbformat.write(nb, f)\n",
    "\n",
    "print(\"Cleaned notebook saved as cleaned_notebook.ipynb\")\n"
   ]
  },
  {
   "cell_type": "code",
   "execution_count": null,
   "metadata": {
    "colab": {
     "base_uri": "https://localhost:8080/"
    },
    "collapsed": true,
    "executionInfo": {
     "elapsed": 7622,
     "status": "ok",
     "timestamp": 1744801007840,
     "user": {
      "displayName": "Vamsikrishna N",
      "userId": "09550140884141230614"
     },
     "user_tz": -330
    },
    "id": "oxtcg_7uPlV8",
    "outputId": "351335a5-87f2-400c-f60e-957161b9ca03"
   },
   "outputs": [
    {
     "name": "stdout",
     "output_type": "stream",
     "text": [
      "Requirement already satisfied: transformers in /usr/local/lib/python3.11/dist-packages (4.51.1)\n",
      "Collecting datasets\n",
      "  Downloading datasets-3.5.0-py3-none-any.whl.metadata (19 kB)\n",
      "Requirement already satisfied: sentencepiece in /usr/local/lib/python3.11/dist-packages (0.2.0)\n",
      "Collecting evaluate\n",
      "  Downloading evaluate-0.4.3-py3-none-any.whl.metadata (9.2 kB)\n",
      "Collecting rouge_score\n",
      "  Downloading rouge_score-0.1.2.tar.gz (17 kB)\n",
      "  Preparing metadata (setup.py) ... \u001b[?25l\u001b[?25hdone\n",
      "Requirement already satisfied: filelock in /usr/local/lib/python3.11/dist-packages (from transformers) (3.18.0)\n",
      "Requirement already satisfied: huggingface-hub<1.0,>=0.30.0 in /usr/local/lib/python3.11/dist-packages (from transformers) (0.30.2)\n",
      "Requirement already satisfied: numpy>=1.17 in /usr/local/lib/python3.11/dist-packages (from transformers) (2.0.2)\n",
      "Requirement already satisfied: packaging>=20.0 in /usr/local/lib/python3.11/dist-packages (from transformers) (24.2)\n",
      "Requirement already satisfied: pyyaml>=5.1 in /usr/local/lib/python3.11/dist-packages (from transformers) (6.0.2)\n",
      "Requirement already satisfied: regex!=2019.12.17 in /usr/local/lib/python3.11/dist-packages (from transformers) (2024.11.6)\n",
      "Requirement already satisfied: requests in /usr/local/lib/python3.11/dist-packages (from transformers) (2.32.3)\n",
      "Requirement already satisfied: tokenizers<0.22,>=0.21 in /usr/local/lib/python3.11/dist-packages (from transformers) (0.21.1)\n",
      "Requirement already satisfied: safetensors>=0.4.3 in /usr/local/lib/python3.11/dist-packages (from transformers) (0.5.3)\n",
      "Requirement already satisfied: tqdm>=4.27 in /usr/local/lib/python3.11/dist-packages (from transformers) (4.67.1)\n",
      "Requirement already satisfied: pyarrow>=15.0.0 in /usr/local/lib/python3.11/dist-packages (from datasets) (18.1.0)\n",
      "Collecting dill<0.3.9,>=0.3.0 (from datasets)\n",
      "  Downloading dill-0.3.8-py3-none-any.whl.metadata (10 kB)\n",
      "Requirement already satisfied: pandas in /usr/local/lib/python3.11/dist-packages (from datasets) (2.2.2)\n",
      "Collecting xxhash (from datasets)\n",
      "  Downloading xxhash-3.5.0-cp311-cp311-manylinux_2_17_x86_64.manylinux2014_x86_64.whl.metadata (12 kB)\n",
      "Collecting multiprocess<0.70.17 (from datasets)\n",
      "  Downloading multiprocess-0.70.16-py311-none-any.whl.metadata (7.2 kB)\n",
      "Collecting fsspec<=2024.12.0,>=2023.1.0 (from fsspec[http]<=2024.12.0,>=2023.1.0->datasets)\n",
      "  Downloading fsspec-2024.12.0-py3-none-any.whl.metadata (11 kB)\n",
      "Requirement already satisfied: aiohttp in /usr/local/lib/python3.11/dist-packages (from datasets) (3.11.15)\n",
      "Requirement already satisfied: absl-py in /usr/local/lib/python3.11/dist-packages (from rouge_score) (1.4.0)\n",
      "Requirement already satisfied: nltk in /usr/local/lib/python3.11/dist-packages (from rouge_score) (3.9.1)\n",
      "Requirement already satisfied: six>=1.14.0 in /usr/local/lib/python3.11/dist-packages (from rouge_score) (1.17.0)\n",
      "Requirement already satisfied: aiohappyeyeballs>=2.3.0 in /usr/local/lib/python3.11/dist-packages (from aiohttp->datasets) (2.6.1)\n",
      "Requirement already satisfied: aiosignal>=1.1.2 in /usr/local/lib/python3.11/dist-packages (from aiohttp->datasets) (1.3.2)\n",
      "Requirement already satisfied: attrs>=17.3.0 in /usr/local/lib/python3.11/dist-packages (from aiohttp->datasets) (25.3.0)\n",
      "Requirement already satisfied: frozenlist>=1.1.1 in /usr/local/lib/python3.11/dist-packages (from aiohttp->datasets) (1.5.0)\n",
      "Requirement already satisfied: multidict<7.0,>=4.5 in /usr/local/lib/python3.11/dist-packages (from aiohttp->datasets) (6.4.2)\n",
      "Requirement already satisfied: propcache>=0.2.0 in /usr/local/lib/python3.11/dist-packages (from aiohttp->datasets) (0.3.1)\n",
      "Requirement already satisfied: yarl<2.0,>=1.17.0 in /usr/local/lib/python3.11/dist-packages (from aiohttp->datasets) (1.19.0)\n",
      "Requirement already satisfied: typing-extensions>=3.7.4.3 in /usr/local/lib/python3.11/dist-packages (from huggingface-hub<1.0,>=0.30.0->transformers) (4.13.1)\n",
      "Requirement already satisfied: charset-normalizer<4,>=2 in /usr/local/lib/python3.11/dist-packages (from requests->transformers) (3.4.1)\n",
      "Requirement already satisfied: idna<4,>=2.5 in /usr/local/lib/python3.11/dist-packages (from requests->transformers) (3.10)\n",
      "Requirement already satisfied: urllib3<3,>=1.21.1 in /usr/local/lib/python3.11/dist-packages (from requests->transformers) (2.3.0)\n",
      "Requirement already satisfied: certifi>=2017.4.17 in /usr/local/lib/python3.11/dist-packages (from requests->transformers) (2025.1.31)\n",
      "Requirement already satisfied: click in /usr/local/lib/python3.11/dist-packages (from nltk->rouge_score) (8.1.8)\n",
      "Requirement already satisfied: joblib in /usr/local/lib/python3.11/dist-packages (from nltk->rouge_score) (1.4.2)\n",
      "Requirement already satisfied: python-dateutil>=2.8.2 in /usr/local/lib/python3.11/dist-packages (from pandas->datasets) (2.8.2)\n",
      "Requirement already satisfied: pytz>=2020.1 in /usr/local/lib/python3.11/dist-packages (from pandas->datasets) (2025.2)\n",
      "Requirement already satisfied: tzdata>=2022.7 in /usr/local/lib/python3.11/dist-packages (from pandas->datasets) (2025.2)\n",
      "Downloading datasets-3.5.0-py3-none-any.whl (491 kB)\n",
      "\u001b[2K   \u001b[90m━━━━━━━━━━━━━━━━━━━━━━━━━━━━━━━━━━━━━━━━\u001b[0m \u001b[32m491.2/491.2 kB\u001b[0m \u001b[31m9.7 MB/s\u001b[0m eta \u001b[36m0:00:00\u001b[0m\n",
      "\u001b[?25hDownloading evaluate-0.4.3-py3-none-any.whl (84 kB)\n",
      "\u001b[2K   \u001b[90m━━━━━━━━━━━━━━━━━━━━━━━━━━━━━━━━━━━━━━━━\u001b[0m \u001b[32m84.0/84.0 kB\u001b[0m \u001b[31m5.0 MB/s\u001b[0m eta \u001b[36m0:00:00\u001b[0m\n",
      "\u001b[?25hDownloading dill-0.3.8-py3-none-any.whl (116 kB)\n",
      "\u001b[2K   \u001b[90m━━━━━━━━━━━━━━━━━━━━━━━━━━━━━━━━━━━━━━━━\u001b[0m \u001b[32m116.3/116.3 kB\u001b[0m \u001b[31m9.1 MB/s\u001b[0m eta \u001b[36m0:00:00\u001b[0m\n",
      "\u001b[?25hDownloading fsspec-2024.12.0-py3-none-any.whl (183 kB)\n",
      "\u001b[2K   \u001b[90m━━━━━━━━━━━━━━━━━━━━━━━━━━━━━━━━━━━━━━━━\u001b[0m \u001b[32m183.9/183.9 kB\u001b[0m \u001b[31m14.9 MB/s\u001b[0m eta \u001b[36m0:00:00\u001b[0m\n",
      "\u001b[?25hDownloading multiprocess-0.70.16-py311-none-any.whl (143 kB)\n",
      "\u001b[2K   \u001b[90m━━━━━━━━━━━━━━━━━━━━━━━━━━━━━━━━━━━━━━━━\u001b[0m \u001b[32m143.5/143.5 kB\u001b[0m \u001b[31m10.8 MB/s\u001b[0m eta \u001b[36m0:00:00\u001b[0m\n",
      "\u001b[?25hDownloading xxhash-3.5.0-cp311-cp311-manylinux_2_17_x86_64.manylinux2014_x86_64.whl (194 kB)\n",
      "\u001b[2K   \u001b[90m━━━━━━━━━━━━━━━━━━━━━━━━━━━━━━━━━━━━━━━━\u001b[0m \u001b[32m194.8/194.8 kB\u001b[0m \u001b[31m14.7 MB/s\u001b[0m eta \u001b[36m0:00:00\u001b[0m\n",
      "\u001b[?25hBuilding wheels for collected packages: rouge_score\n",
      "  Building wheel for rouge_score (setup.py) ... \u001b[?25l\u001b[?25hdone\n",
      "  Created wheel for rouge_score: filename=rouge_score-0.1.2-py3-none-any.whl size=24934 sha256=63f0af55c45e83b4c31d335700a3b058365bb432bf0a3413f4ee375e4ded5ec4\n",
      "  Stored in directory: /root/.cache/pip/wheels/1e/19/43/8a442dc83660ca25e163e1bd1f89919284ab0d0c1475475148\n",
      "Successfully built rouge_score\n",
      "Installing collected packages: xxhash, fsspec, dill, rouge_score, multiprocess, datasets, evaluate\n",
      "  Attempting uninstall: fsspec\n",
      "    Found existing installation: fsspec 2025.3.2\n",
      "    Uninstalling fsspec-2025.3.2:\n",
      "      Successfully uninstalled fsspec-2025.3.2\n",
      "\u001b[31mERROR: pip's dependency resolver does not currently take into account all the packages that are installed. This behaviour is the source of the following dependency conflicts.\n",
      "gcsfs 2025.3.2 requires fsspec==2025.3.2, but you have fsspec 2024.12.0 which is incompatible.\n",
      "torch 2.6.0+cu124 requires nvidia-cublas-cu12==12.4.5.8; platform_system == \"Linux\" and platform_machine == \"x86_64\", but you have nvidia-cublas-cu12 12.5.3.2 which is incompatible.\n",
      "torch 2.6.0+cu124 requires nvidia-cuda-cupti-cu12==12.4.127; platform_system == \"Linux\" and platform_machine == \"x86_64\", but you have nvidia-cuda-cupti-cu12 12.5.82 which is incompatible.\n",
      "torch 2.6.0+cu124 requires nvidia-cuda-nvrtc-cu12==12.4.127; platform_system == \"Linux\" and platform_machine == \"x86_64\", but you have nvidia-cuda-nvrtc-cu12 12.5.82 which is incompatible.\n",
      "torch 2.6.0+cu124 requires nvidia-cuda-runtime-cu12==12.4.127; platform_system == \"Linux\" and platform_machine == \"x86_64\", but you have nvidia-cuda-runtime-cu12 12.5.82 which is incompatible.\n",
      "torch 2.6.0+cu124 requires nvidia-cudnn-cu12==9.1.0.70; platform_system == \"Linux\" and platform_machine == \"x86_64\", but you have nvidia-cudnn-cu12 9.3.0.75 which is incompatible.\n",
      "torch 2.6.0+cu124 requires nvidia-cufft-cu12==11.2.1.3; platform_system == \"Linux\" and platform_machine == \"x86_64\", but you have nvidia-cufft-cu12 11.2.3.61 which is incompatible.\n",
      "torch 2.6.0+cu124 requires nvidia-curand-cu12==10.3.5.147; platform_system == \"Linux\" and platform_machine == \"x86_64\", but you have nvidia-curand-cu12 10.3.6.82 which is incompatible.\n",
      "torch 2.6.0+cu124 requires nvidia-cusolver-cu12==11.6.1.9; platform_system == \"Linux\" and platform_machine == \"x86_64\", but you have nvidia-cusolver-cu12 11.6.3.83 which is incompatible.\n",
      "torch 2.6.0+cu124 requires nvidia-cusparse-cu12==12.3.1.170; platform_system == \"Linux\" and platform_machine == \"x86_64\", but you have nvidia-cusparse-cu12 12.5.1.3 which is incompatible.\n",
      "torch 2.6.0+cu124 requires nvidia-nvjitlink-cu12==12.4.127; platform_system == \"Linux\" and platform_machine == \"x86_64\", but you have nvidia-nvjitlink-cu12 12.5.82 which is incompatible.\u001b[0m\u001b[31m\n",
      "\u001b[0mSuccessfully installed datasets-3.5.0 dill-0.3.8 evaluate-0.4.3 fsspec-2024.12.0 multiprocess-0.70.16 rouge_score-0.1.2 xxhash-3.5.0\n"
     ]
    }
   ],
   "source": [
    "!pip install transformers datasets sentencepiece evaluate rouge_score\n"
   ]
  },
  {
   "cell_type": "code",
   "execution_count": null,
   "metadata": {
    "colab": {
     "base_uri": "https://localhost:8080/"
    },
    "executionInfo": {
     "elapsed": 12630,
     "status": "ok",
     "timestamp": 1745072888720,
     "user": {
      "displayName": "Vamsikrishna N",
      "userId": "09550140884141230614"
     },
     "user_tz": -330
    },
    "id": "T7C5FoHxZdYx",
    "outputId": "4e76d060-fb8f-433e-9c3b-67ead5a6f2ab"
   },
   "outputs": [
    {
     "name": "stderr",
     "output_type": "stream",
     "text": [
      "[nltk_data] Downloading package punkt_tab to /root/nltk_data...\n",
      "[nltk_data]   Package punkt_tab is already up-to-date!\n",
      "Some weights of the model checkpoint at xlm-roberta-large-finetuned-conll03-english were not used when initializing XLMRobertaForTokenClassification: ['roberta.pooler.dense.bias', 'roberta.pooler.dense.weight']\n",
      "- This IS expected if you are initializing XLMRobertaForTokenClassification from the checkpoint of a model trained on another task or with another architecture (e.g. initializing a BertForSequenceClassification model from a BertForPreTraining model).\n",
      "- This IS NOT expected if you are initializing XLMRobertaForTokenClassification from the checkpoint of a model that you expect to be exactly identical (initializing a BertForSequenceClassification model from a BertForSequenceClassification model).\n",
      "Device set to use cpu\n"
     ]
    },
    {
     "name": "stdout",
     "output_type": "stream",
     "text": [
      "అకిరా: రేణు దేశ: కాశీ: వారణాసి: రేణు: ఆంధ్రప్రదేశ్ ఉప ముఖ్యమంత్రి పవన్ కల్యాణ్ కూతురు ఆద్య ఆటోలో ప్రయాణిస్తున్న వీడియో సోషల్ మీడియాలో వైరల్ గా మారింది. దీనిపై ఆయన మాజీ భార్య రేణు దేశాయ్ స్పందించారు.\n"
     ]
    }
   ],
   "source": [
    "from sentence_transformers import SentenceTransformer, util\n",
    "import nltk\n",
    "nltk.download('punkt_tab')\n",
    "from nltk.tokenize import sent_tokenize\n",
    "from transformers import AutoTokenizer, AutoModelForTokenClassification\n",
    "from transformers import pipeline\n",
    "\n",
    "# Load NER model using XLM-RoBERTa\n",
    "model_name = \"xlm-roberta-large-finetuned-conll03-english\"\n",
    "tokenizer_ner = AutoTokenizer.from_pretrained(model_name)\n",
    "model_ner = AutoModelForTokenClassification.from_pretrained(model_name)\n",
    "ner_pipeline = pipeline(\"ner\", model=model_ner, tokenizer=tokenizer_ner, aggregation_strategy=\"simple\")\n",
    "\n",
    "# Create NER pipeline\n",
    "#ner_pipeline = pipeline(\"ner\", model=model, tokenizer=tokenizer, aggregation_strategy=\"simple\")\n",
    "\n",
    "def extract_named_entities(text):\n",
    "    ner_results = ner_pipeline(text)\n",
    "    entities = set([ent['word'] for ent in ner_results if ent['entity_group'] in [\"PER\", \"ORG\", \"LOC\", \"EVENT\"]])\n",
    "    return entities\n",
    "# Load sentence transformer (multilingual, supports Telugu)\n",
    "embedder = SentenceTransformer(\"sentence-transformers/paraphrase-multilingual-MiniLM-L12-v2\")  # or use \"sentence-transformers/paraphrase-multilingual-MiniLM-L12-v2\"\n",
    "\n",
    "def smart_insert_entity(summary, entity, original_text):\n",
    "    # Split summary and original into sentences\n",
    "    summary_sents = sent_tokenize(summary)\n",
    "    original_sents = sent_tokenize(original_text)\n",
    "\n",
    "    # Compute embeddings\n",
    "    summary_embeddings = embedder.encode(summary_sents, convert_to_tensor=True)\n",
    "    original_embeddings = embedder.encode(original_sents, convert_to_tensor=True)\n",
    "\n",
    "    # Find sentence in original text where entity is found\n",
    "    for i, sent in enumerate(original_sents):\n",
    "        if entity in sent:\n",
    "            query_embedding = original_embeddings[i]\n",
    "            break\n",
    "    else:\n",
    "        return summary  # If entity not in original, return original summary\n",
    "\n",
    "    # Find best matching summary sentence\n",
    "    cos_scores = util.cos_sim(query_embedding, summary_embeddings)[0]\n",
    "    best_idx = int(cos_scores.argmax())\n",
    "\n",
    "    # Insert entity into the most relevant sentence if it's not already there\n",
    "    if entity not in summary_sents[best_idx]:\n",
    "        summary_sents[best_idx] = entity + \": \" + summary_sents[best_idx]\n",
    "\n",
    "    return \" \".join(summary_sents)\n",
    "\n",
    "def ner_postprocess_smart(original_text, generated_summary):\n",
    "    original_entities = extract_named_entities(original_text)\n",
    "    summary_entities = extract_named_entities(generated_summary)\n",
    "    missing_entities = original_entities - summary_entities\n",
    "\n",
    "    enhanced_summary = generated_summary\n",
    "    for entity in missing_entities:\n",
    "        enhanced_summary = smart_insert_entity(enhanced_summary, entity, original_text)\n",
    "\n",
    "    return enhanced_summary\n",
    "\n",
    "original_text =\"\"\"ఆంధ్రప్రదేశ్ ఉప ముఖ్యమంత్రి పవన్ కల్యాణ్ కూతురు ఆద్య ఆటోలో ప్రయాణిస్తున్న వీడియో ప్రస్తుతం సోషల్ మీడియాలో వైరల్ గా మారింది. పవన్ కల్యాణ్ మాజీ భార్య, సినీ నటి రేణు దేశాయ్ ఈ వీడియోను తన ఇన్ స్టా అకౌంట్ లో పోస్ట్ చేశారు. కాశీ (వారణాసి) లో ఆద్యతో ఆటో రైడ్ అంటూ రేణు షేర్ చేశారీ వీడియో. ఇక ఈ వీడియో చూసిన పవన్ అభిమానులు కామెంట్ల రూపంలో తమ అభిమానాన్ని కురిపిస్తున్నారు. తండ్రి ఓ రాష్ట్రానికి ఉప ముఖ్యమంత్రి అయినా కూతురు మాత్రం ఎంత సింపుల్ గా నడుచుకుంటుందో చూడండి అంటూ అభిమానులు మురిసిపోతున్నారు. ఆద్య నిరాడంబరతను మెచ్చుకుంటూ కామెంట్లు పెడుతున్నారు. ఆద్య, అకిరాలను ఆడంబరాలు, విలాసాలకు అతీతంగా తల్లి రేణు దేశాయ్ సాధారణంగా పెంచడంపై ప్రశంసలు కురిపిస్తున్నారు.\"\"\"\n",
    "generated_summary =\"\"\"ఆంధ్రప్రదేశ్ ఉప ముఖ్యమంత్రి పవన్ కల్యాణ్ కూతురు ఆద్య ఆటోలో ప్రయాణిస్తున్న వీడియో సోషల్ మీడియాలో వైరల్ గా మారింది. దీనిపై ఆయన మాజీ భార్య రేణు దేశాయ్ స్పందించారు.\"\"\"\n",
    "summ = ner_postprocess_smart(original_text, generated_summary)\n",
    "print(summ)\n",
    "#df['Entity-based Abstractive Summary'] = df.apply(lambda row: ner_postprocess_smart(\" \".join(row['Text']), row['Entity']) if isinstance(row['Text'], list) else generate_abstractive_summary(row['Text'], row['Entity']), axis=1)\n",
    "\n",
    "#df_result = df[['Text', 'Entity', 'Reference summary','Entity-based Summary','Entity-based Abstractive Summary']]\n",
    "# Save results\n",
    "#df_result = df[['Text', 'Entity', 'Named Entities BIO', 'Entity-based Summary', 'Entity-based Abstractive Summary']]\n",
    "#df_result.to_csv('telugu_entity_abstractive.csv', index=False)\n"
   ]
  },
  {
   "cell_type": "code",
   "execution_count": null,
   "metadata": {
    "colab": {
     "base_uri": "https://localhost:8080/"
    },
    "collapsed": true,
    "executionInfo": {
     "elapsed": 5085,
     "status": "ok",
     "timestamp": 1744802420445,
     "user": {
      "displayName": "Vamsikrishna N",
      "userId": "09550140884141230614"
     },
     "user_tz": -330
    },
    "id": "sSKOowi-Pque",
    "outputId": "05c02262-9ad8-42b7-cd0d-95d50c02aa2c"
   },
   "outputs": [
    {
     "name": "stderr",
     "output_type": "stream",
     "text": [
      "You are using the default legacy behaviour of the <class 'transformers.models.t5.tokenization_t5.T5Tokenizer'>. This is expected, and simply means that the `legacy` (previous) behavior will be used so nothing changes for you. If you want to use the new behaviour, set `legacy=False`. This should only be set if you understand what it means, and thoroughly read the reason why this was added as explained in https://github.com/huggingface/transformers/pull/24565\n",
      "/usr/local/lib/python3.11/dist-packages/transformers/convert_slow_tokenizer.py:559: UserWarning: The sentencepiece tokenizer that you are converting to a fast tokenizer uses the byte fallback option which is not implemented in the fast tokenizers. In practice this means that the fast version of the tokenizer can produce unknown tokens whereas the sentencepiece version would have converted these unknown tokens into a sequence of byte tokens matching the original piece of text.\n",
      "  warnings.warn(\n"
     ]
    }
   ],
   "source": [
    "from datasets import load_dataset\n",
    "from transformers import AutoTokenizer\n",
    "\n",
    "# Load CSV dataset\n",
    "dataset = load_dataset(\"csv\", data_files={\"train\": \"dataset2.csv\"}, split=\"train\")\n",
    "\n",
    "# Split into train and validation\n",
    "dataset = dataset.train_test_split(test_size=0.1)\n",
    "train_data = dataset['train']\n",
    "val_data = dataset['test']\n",
    "\n",
    "# Load mT5 tokenizer\n",
    "tokenizer = AutoTokenizer.from_pretrained(\"csebuetnlp/mT5_multilingual_XLSum\")\n"
   ]
  },
  {
   "cell_type": "code",
   "execution_count": null,
   "metadata": {
    "colab": {
     "base_uri": "https://localhost:8080/",
     "height": 81,
     "referenced_widgets": [
      "4718f7f75e114f3da60ff1f77b966e20",
      "3d804e97158542d7aabd4f8a295294a6",
      "73601ffbcb7a47c486c7f29dfe6078a7",
      "5b1285441f2548ee8186db11b6816160",
      "0bca55f2af4a4052a0fe2db5dac54c6c",
      "ef6fbb80a7c8433c95ec56a36d0918fe",
      "036a8551551a4cc99d062ed0d5c14d9c",
      "4e48ae353dc44c85bd64c25541130c0e",
      "61b0fdbf54e64ca5adc244f8d6994a4d",
      "7de47bcf8bf64373941d9c004e2172e0",
      "9aa14972c1b645129accd79bddbc1fe1",
      "ab0607d427684605b5d50346bcd61738",
      "3b18e5ecc7794266b48823b1f833816d",
      "6fcaf48ea8d14b0883081d98b311d892",
      "6e33fe2210d844c5b2dd7ad5d9534cf6",
      "ade2d3fa41214cc6a64970ae017bc7ab",
      "9aceb32f1ee24dd69c3a64288634e033",
      "013171b09ce5486f95d6072efe693547",
      "4f68f6e18cbe404f988e71e3ff108f2f",
      "2c3877070edf4425b043dee462f82d67",
      "05244b719d294d259d30b4780f01e8ba",
      "99a1b71023c84668b0c777773614940c"
     ]
    },
    "executionInfo": {
     "elapsed": 341,
     "status": "ok",
     "timestamp": 1744802423063,
     "user": {
      "displayName": "Vamsikrishna N",
      "userId": "09550140884141230614"
     },
     "user_tz": -330
    },
    "id": "LhepWcTDQCM5",
    "outputId": "906752cf-4c43-4eb1-c3fb-50e9e42c8e9a"
   },
   "outputs": [
    {
     "data": {
      "application/vnd.jupyter.widget-view+json": {
       "model_id": "4718f7f75e114f3da60ff1f77b966e20",
       "version_major": 2,
       "version_minor": 0
      },
      "text/plain": [
       "Map:   0%|          | 0/91 [00:00<?, ? examples/s]"
      ]
     },
     "metadata": {},
     "output_type": "display_data"
    },
    {
     "data": {
      "application/vnd.jupyter.widget-view+json": {
       "model_id": "ab0607d427684605b5d50346bcd61738",
       "version_major": 2,
       "version_minor": 0
      },
      "text/plain": [
       "Map:   0%|          | 0/11 [00:00<?, ? examples/s]"
      ]
     },
     "metadata": {},
     "output_type": "display_data"
    }
   ],
   "source": [
    "max_input_length = 512\n",
    "max_target_length = 128\n",
    "\n",
    "def preprocess(batch):\n",
    "    inputs = tokenizer(batch[\"Text\"], max_length=max_input_length, truncation=True, padding=\"max_length\")\n",
    "    targets = tokenizer(batch[\"Reference Summary\"], max_length=max_target_length, truncation=True, padding=\"max_length\")\n",
    "\n",
    "    inputs[\"labels\"] = targets[\"input_ids\"]\n",
    "    return inputs\n",
    "\n",
    "train_dataset = train_data.map(preprocess, batched=True, remove_columns=train_data.column_names)\n",
    "val_dataset = val_data.map(preprocess, batched=True, remove_columns=val_data.column_names)\n"
   ]
  },
  {
   "cell_type": "code",
   "execution_count": null,
   "metadata": {
    "colab": {
     "base_uri": "https://localhost:8080/"
    },
    "executionInfo": {
     "elapsed": 4225,
     "status": "ok",
     "timestamp": 1744802434325,
     "user": {
      "displayName": "Vamsikrishna N",
      "userId": "09550140884141230614"
     },
     "user_tz": -330
    },
    "id": "OpMebREbQSjQ",
    "outputId": "b8e7e22a-9e3b-4145-9136-57cb71bc7d32"
   },
   "outputs": [
    {
     "name": "stderr",
     "output_type": "stream",
     "text": [
      "Using the `WANDB_DISABLED` environment variable is deprecated and will be removed in v5. Use the --report_to flag to control the integrations used for logging result (for instance --report_to none).\n"
     ]
    }
   ],
   "source": [
    "from transformers import MT5ForConditionalGeneration, Seq2SeqTrainer, Seq2SeqTrainingArguments, DataCollatorForSeq2Seq\n",
    "import os\n",
    "# ✅ Disable Weights & Biases logging to avoid API key prompt\n",
    "os.environ[\"WANDB_DISABLED\"] = \"true\"\n",
    "model = MT5ForConditionalGeneration.from_pretrained(\"csebuetnlp/mT5_multilingual_XLSum\")\n",
    "\n",
    "training_args = Seq2SeqTrainingArguments(\n",
    "    output_dir=\"./mt5_telugu_summarizer\",\n",
    "    eval_strategy=\"epoch\",\n",
    "    learning_rate=3e-5,\n",
    "    per_device_train_batch_size=8,\n",
    "    per_device_eval_batch_size=8,\n",
    "    weight_decay=0.01,\n",
    "    save_total_limit=2,\n",
    "    num_train_epochs=3,\n",
    "    predict_with_generate=True,\n",
    "    fp16=True,  # Use if GPU available\n",
    "    report_to=None,\n",
    ")\n",
    "\n",
    "data_collator = DataCollatorForSeq2Seq(tokenizer, model=model)\n"
   ]
  },
  {
   "cell_type": "code",
   "execution_count": null,
   "metadata": {
    "colab": {
     "base_uri": "https://localhost:8080/"
    },
    "id": "PsuFutrGSBsF",
    "outputId": "96cad8b7-99ec-4640-8fd0-135acb111aff"
   },
   "outputs": [
    {
     "name": "stderr",
     "output_type": "stream",
     "text": [
      "<ipython-input-6-bbb18fc7af2a>:1: FutureWarning: `tokenizer` is deprecated and will be removed in version 5.0.0 for `Seq2SeqTrainer.__init__`. Use `processing_class` instead.\n",
      "  trainer = Seq2SeqTrainer(\n",
      "Passing a tuple of `past_key_values` is deprecated and will be removed in Transformers v4.48.0. You should pass an instance of `EncoderDecoderCache` instead, e.g. `past_key_values=EncoderDecoderCache.from_legacy_cache(past_key_values)`.\n"
     ]
    }
   ],
   "source": [
    "trainer = Seq2SeqTrainer(\n",
    "    model=model,\n",
    "    args=training_args,\n",
    "    train_dataset=train_dataset,\n",
    "    eval_dataset=val_dataset,\n",
    "    tokenizer=tokenizer,\n",
    "    data_collator=data_collator,\n",
    ")\n",
    "\n",
    "trainer.train()\n"
   ]
  },
  {
   "cell_type": "code",
   "execution_count": null,
   "metadata": {
    "colab": {
     "base_uri": "https://localhost:8080/"
    },
    "id": "Z3maSajTVdGZ",
    "outputId": "697b8e47-9132-4901-8b98-8ad01adc4789"
   },
   "outputs": [
    {
     "name": "stderr",
     "output_type": "stream",
     "text": [
      "/usr/local/lib/python3.11/dist-packages/huggingface_hub/utils/_auth.py:94: UserWarning: \n",
      "The secret `HF_TOKEN` does not exist in your Colab secrets.\n",
      "To authenticate with the Hugging Face Hub, create a token in your settings tab (https://huggingface.co/settings/tokens), set it as secret in your Google Colab and restart your session.\n",
      "You will be able to reuse this secret in all of your notebooks.\n",
      "Please note that authentication is recommended but still optional to access public models or datasets.\n",
      "  warnings.warn(\n",
      "You are using the default legacy behaviour of the <class 'transformers.models.t5.tokenization_t5.T5Tokenizer'>. This is expected, and simply means that the `legacy` (previous) behavior will be used so nothing changes for you. If you want to use the new behaviour, set `legacy=False`. This should only be set if you understand what it means, and thoroughly read the reason why this was added as explained in https://github.com/huggingface/transformers/pull/24565\n",
      "You are using a model of type mt5 to instantiate a model of type t5. This is not supported for all configurations of models and can yield errors.\n",
      "Using the `WANDB_DISABLED` environment variable is deprecated and will be removed in v5. Use the --report_to flag to control the integrations used for logging result (for instance --report_to none).\n",
      "Passing a tuple of `past_key_values` is deprecated and will be removed in Transformers v4.48.0. You should pass an instance of `EncoderDecoderCache` instead, e.g. `past_key_values=EncoderDecoderCache.from_legacy_cache(past_key_values)`.\n"
     ]
    }
   ],
   "source": [
    "from transformers import T5Tokenizer, T5ForConditionalGeneration\n",
    "from datasets import load_dataset\n",
    "import os\n",
    "# ✅ Disable Weights & Biases logging to avoid API key prompt\n",
    "os.environ[\"WANDB_DISABLED\"] = \"true\"\n",
    "\n",
    "# Load pretrained mT5 model\n",
    "model_name = \"csebuetnlp/mT5_multilingual_XLSum\"  # Or use other sizes like 'mT5-base'\n",
    "tokenizer = T5Tokenizer.from_pretrained(model_name)\n",
    "model = T5ForConditionalGeneration.from_pretrained(model_name)\n",
    "\n",
    "\n",
    "# Load CSV dataset\n",
    "dataset = load_dataset(\"csv\", data_files={\"train\": \"dataset2.csv\"}, split=\"train\")\n",
    "\n",
    "# Tokenizing the dataset\n",
    "def preprocess_data(examples):\n",
    "    inputs = tokenizer(examples['Text'], padding=\"max_length\", truncation=True, max_length=512)\n",
    "    targets = tokenizer(examples['Reference Summary'], padding=\"max_length\", truncation=True, max_length=128)\n",
    "    inputs['labels'] = targets['input_ids']\n",
    "    return inputs\n",
    "\n",
    "# Apply the preprocessing to your dataset\n",
    "train_dataset = [preprocess_data(item) for item in dataset]\n",
    "\n",
    "# Fine-tuning the model\n",
    "from transformers import Trainer, TrainingArguments\n",
    "\n",
    "training_args = TrainingArguments(\n",
    "    output_dir='./results',\n",
    "    eval_strategy=\"epoch\",\n",
    "    learning_rate=3e-5,\n",
    "    per_device_train_batch_size=4,\n",
    "    num_train_epochs=3,\n",
    "    weight_decay=0.01,\n",
    ")\n",
    "\n",
    "trainer = Trainer(\n",
    "    model=model,\n",
    "    args=training_args,\n",
    "    train_dataset=train_dataset,\n",
    "    eval_dataset=train_dataset  # Use a separate validation dataset for real use\n",
    ")\n",
    "\n",
    "trainer.train()\n"
   ]
  },
  {
   "cell_type": "code",
   "execution_count": null,
   "metadata": {
    "colab": {
     "base_uri": "https://localhost:8080/"
    },
    "id": "DsT32uTSOIlm",
    "outputId": "b186725a-ce3c-4528-a832-43a4abd5c143"
   },
   "outputs": [
    {
     "name": "stderr",
     "output_type": "stream",
     "text": [
      "/usr/local/lib/python3.11/dist-packages/huggingface_hub/utils/_auth.py:94: UserWarning: \n",
      "The secret `HF_TOKEN` does not exist in your Colab secrets.\n",
      "To authenticate with the Hugging Face Hub, create a token in your settings tab (https://huggingface.co/settings/tokens), set it as secret in your Google Colab and restart your session.\n",
      "You will be able to reuse this secret in all of your notebooks.\n",
      "Please note that authentication is recommended but still optional to access public models or datasets.\n",
      "  warnings.warn(\n",
      "You are using the default legacy behaviour of the <class 'transformers.models.t5.tokenization_t5.T5Tokenizer'>. This is expected, and simply means that the `legacy` (previous) behavior will be used so nothing changes for you. If you want to use the new behaviour, set `legacy=False`. This should only be set if you understand what it means, and thoroughly read the reason why this was added as explained in https://github.com/huggingface/transformers/pull/24565\n",
      "You are using a model of type mt5 to instantiate a model of type t5. This is not supported for all configurations of models and can yield errors.\n",
      "Passing a tuple of `past_key_values` is deprecated and will be removed in Transformers v4.48.0. You should pass an instance of `EncoderDecoderCache` instead, e.g. `past_key_values=EncoderDecoderCache.from_legacy_cache(past_key_values)`.\n"
     ]
    }
   ],
   "source": [
    "from torch.utils.data import Dataset, DataLoader\n",
    "from torch.optim import AdamW\n",
    "from transformers import T5Tokenizer, T5ForConditionalGeneration\n",
    "import torch.nn as nn\n",
    "import torch\n",
    "import pandas as pd\n",
    "df = pd.read_csv(\"dataset2.csv\")\n",
    "\n",
    "# Load pretrained mT5 model\n",
    "model_name = \"csebuetnlp/mT5_multilingual_XLSum\"  # Or use other sizes like 'mT5-base'\n",
    "tokenizer = T5Tokenizer.from_pretrained(model_name)\n",
    "model = T5ForConditionalGeneration.from_pretrained(model_name)\n",
    "# Custom Dataset\n",
    "class SummaryDataset(Dataset):\n",
    "    def __init__(self, dataframe, tokenizer, max_input_len=512, max_output_len=128):\n",
    "        self.tokenizer = tokenizer\n",
    "        self.data = dataframe\n",
    "        self.max_input_len = max_input_len\n",
    "        self.max_output_len = max_output_len\n",
    "\n",
    "    def __len__(self):\n",
    "        return len(self.data)\n",
    "\n",
    "    def __getitem__(self, idx):\n",
    "        row = self.data.iloc[idx]\n",
    "        input_text = f\"summarize: {row['Entity-based Summary']}\"\n",
    "        target_text = row['Reference Summary']\n",
    "\n",
    "        input_enc = self.tokenizer(\n",
    "            input_text, padding='max_length', truncation=True,\n",
    "            max_length=self.max_input_len, return_tensors=\"pt\"\n",
    "        )\n",
    "        target_enc = self.tokenizer(\n",
    "            target_text, padding='max_length', truncation=True,\n",
    "            max_length=self.max_output_len, return_tensors=\"pt\"\n",
    "        )\n",
    "\n",
    "        labels = target_enc.input_ids.squeeze()\n",
    "        labels[labels == tokenizer.pad_token_id] = -100  # Ignore padding in loss\n",
    "\n",
    "        return {\n",
    "            'input_ids': input_enc.input_ids.squeeze(),\n",
    "            'attention_mask': input_enc.attention_mask.squeeze(),\n",
    "            'labels': labels\n",
    "        }\n",
    "\n",
    "# Prepare dataset\n",
    "train_dataset = SummaryDataset(df, tokenizer)\n",
    "train_loader = DataLoader(train_dataset, batch_size=8, shuffle=True)\n",
    "\n",
    "# Move model to GPU if available\n",
    "device = torch.device(\"cuda\" if torch.cuda.is_available() else \"cpu\")\n",
    "model = model.to(device)\n",
    "\n",
    "# Optimizer & Loss\n",
    "optimizer = AdamW(model.parameters(), lr=3e-5)\n",
    "loss_fn = nn.CrossEntropyLoss(ignore_index=-100)\n",
    "\n",
    "# Training loop\n",
    "epochs = 3\n",
    "model.train()\n",
    "\n",
    "for epoch in range(epochs):\n",
    "    total_loss = 0\n",
    "    for batch in train_loader:\n",
    "        input_ids = batch['input_ids'].to(device)\n",
    "        attention_mask = batch['attention_mask'].to(device)\n",
    "        labels = batch['labels'].to(device)\n",
    "\n",
    "        outputs = model(input_ids=input_ids, attention_mask=attention_mask, labels=labels)\n",
    "        loss = outputs.loss\n",
    "        total_loss += loss.item()\n",
    "\n",
    "        loss.backward()\n",
    "        optimizer.step()\n",
    "        optimizer.zero_grad()\n",
    "\n",
    "    print(f\"Epoch {epoch+1}/{epochs} - Loss: {total_loss:.4f}\")\n",
    "\n",
    "# Save the fine-tuned model\n",
    "model.save_pretrained(\"/content/drive/MyDrive/FineTuned_mT5_Telugu\")\n",
    "tokenizer.save_pretrained(\"/content/drive/MyDrive/FineTuned_mT5_Telugu\")\n"
   ]
  },
  {
   "cell_type": "code",
   "execution_count": null,
   "metadata": {
    "id": "xSOKAcMsOR4b"
   },
   "outputs": [],
   "source": [
    "model = AutoModelForSeq2SeqLM.from_pretrained(\"/content/drive/MyDrive/FineTuned_mT5_Telugu\")\n"
   ]
  }
 ],
 "metadata": {
  "colab": {
   "authorship_tag": "ABX9TyPa0FoZomfuBzoYoO4Wex0i",
   "provenance": []
  },
  "kernelspec": {
   "display_name": "Python 3",
   "name": "python3"
  },
  "language_info": {
   "name": "python"
  }
 },
 "nbformat": 4,
 "nbformat_minor": 0
}
